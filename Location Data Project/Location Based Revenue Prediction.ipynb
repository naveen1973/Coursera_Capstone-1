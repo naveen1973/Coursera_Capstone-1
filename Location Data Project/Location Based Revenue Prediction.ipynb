# To add a new cell, type '# %%'
# To add a new markdown cell, type '# %% [markdown]'
# %% [markdown]
# Importing Libraries

# %%
import numpy as np # library to handle data in a vectorized manner

import pandas as pd # library for data analsysis
pd.set_option('display.max_columns', None)
pd.set_option('display.max_rows', None)

import json # library to handle JSON files

#!conda install -c conda-forge geopy --yes # uncomment this line if you haven't completed the Foursquare API lab
from geopy.geocoders import Nominatim # convert an address into latitude and longitude values

import requests # library to handle requests
from pandas.io.json import json_normalize # tranform JSON file into a pandas dataframe

# Matplotlib and associated plotting modules
import matplotlib.cm as cm
import matplotlib.colors as colors

# import k-means from clustering stage
from sklearn.cluster import KMeans

#!conda install -c conda-forge folium=0.5.0 --yes # uncomment this line if you haven't completed the Foursquare API lab
import folium # map rendering library

print('Libraries imported.')
import lxml
import html5lib


# %%
from sklearn.model_selection import train_test_split


# %%
import random


# %%
import xgboost as xgb
from sklearn.metrics import mean_squared_error

# %% [markdown]
# Data Import and preprocess

# %%
df=pd.read_csv('Datafiniti_Pizza_Restaurants_and_the_Pizza_They_Sell_May19.csv')


# %%
df.head()


# %%
df.info()


# %%
df.columns


# %%
df_filtered=df[['name','address','city','country','latitude','longitude']]


# %%
df_filtered.drop_duplicates(subset='name',keep=False,inplace=True) 


# %%
df_filtered=df_filtered.reset_index().drop('index',axis=1)
df_filtered.head()


# %%
# create map of United States Pizza Restaurants using latitude and longitude values
latitude=37.0902
longitude=95.7129
map_pizza = folium.Map(location=[latitude, longitude], zoom_start=10)

# add markers to map
for lat, lng, name, address in zip(df_filtered['latitude'], df_filtered['longitude'], df_filtered['name'], df_filtered['address']):
    label = '{}, {}'.format(name, address)
    label = folium.Popup(label, parse_html=True)
    folium.CircleMarker(
        [lat, lng],
        radius=5,
        popup=label,
        color='blue',
        fill=True,
        fill_color='#3186cc',
        fill_opacity=0.7,
        parse_html=False).add_to(map_pizza)  
    
map_pizza


# %%
CLIENT_ID = 'WA1U24ZAM0LMQ3C1HDJRS5R5YNSZM0NRYP4QGEILDLGS2WIZ' # Foursquare ID
CLIENT_SECRET = 'GFX533YSXO01IOEXI4J504Q0TU44JP3TJIDSHRUTO5KZY31Y' # Foursquare Secret
VERSION = '20180605' # Foursquare API version

print('Your credentails:')
print('CLIENT_ID: ' + CLIENT_ID)
print('CLIENT_SECRET:' + CLIENT_SECRET)


# %%
def getNearbyVenues(names, latitudes, longitudes, radius=500):
    
    venues_list=[]
    for name, lat, lng in zip(names, latitudes, longitudes):
        print(name)
            
        # create the API request URL
        url = 'https://api.foursquare.com/v2/venues/explore?&client_id={}&client_secret={}&v={}&ll={},{}&radius={}&limit={}'.format(
            CLIENT_ID, 
            CLIENT_SECRET, 
            VERSION, 
            lat, 
            lng, 
            radius, 
            100)
        try:     
            # make the GET request
            results = requests.get(url).json()["response"]['groups'][0]['items']
            
            # return only relevant information for each nearby venue
            venues_list.append([(
                name, 
                lat, 
                lng, 
                v['venue']['name'], 
                v['venue']['location']['lat'], 
                v['venue']['location']['lng'],  
                v['venue']['categories'][0]['name']) for v in results])
        except:
            continue

    nearby_venues = pd.DataFrame([item for venue_list in venues_list for item in venue_list])
    nearby_venues.columns = ['Restaurant Name', 
                  'Restaurant Latitude', 
                  'Restaurant Longitude', 
                  'Venue', 
                  'Venue Latitude', 
                  'Venue Longitude', 
                  'Venue Category']
    
    return(nearby_venues)


# %%
pizza_venues=getNearbyVenues(names=df_filtered['name'],
                                   latitudes=df_filtered['latitude'],
                                   longitudes=df_filtered['longitude']
                                  )


# %%
pizza_venues['Venue Category'].unique()


# %%
pd.to_csv("pizza_venues.csv")


# %%
pizza_venues=pd.read_csv("pizza_venues.csv")


# %%
pizza_venues.shape


# %%
pizza_venues['Restaurant Name'].nunique()


# %%
# one hot encoding
pizza_onehot = pd.get_dummies(pizza_venues[['Venue Category']], prefix="", prefix_sep="")

# add neighborhood column back to dataframe
pizza_onehot['Restaurant Name'] = pizza_venues['Restaurant Name'] 

# move neighborhood column to the first column
names = pizza_onehot['Restaurant Name']
pizza_onehot.drop(labels=['Restaurant Name'], axis=1,inplace = True)
pizza_onehot.insert(0, 'Restaurant Name', names)

pizza_onehot.head()


# %%
pizza_grouped=pizza_onehot.groupby('Restaurant Name').mean().reset_index()


# %%
pizza_grouped.head()


# %%
pizza_grouped.shape


# %%


# %% [markdown]
# Now Shuffle data and split into train and test sets

# %%
#Data Scaling
pizza_grouped = pizza_grouped.iloc[1:]*1000


# %%
pizza_grouped.head()


# %%
X_train,X_test=train_test_split(pizza_grouped,random_state=1,test_size=0.08)


# %%
X_train.shape

# %% [markdown]
# Now we add random revenue to the train data
# 

# %%
revenue=[]
for i in range(0,368):
    n=random.randint(10000,20000)
    revenue.append(n)
print(len(revenue))
print(revenue[10:20])


# %%
X_train['revenue in USD'] = revenue


# %%
X_train.head()


# %%
#Saving the dataframe for future use 
X_train.to_csv("C:/Users/spars/OneDrive/Desktop/train_data.csv")
X_test.to_csv("C:/Users/spars/OneDrive/Desktop/test_data.csv")


# %%
#Retrieving saved dataframe
train_data=pd.read_csv('train_data.csv')
test_data=pd.read_csv('test_data.csv')


# %%
test_data.shape


# %%
train_data.shape


# %%
X=train_data.drop(['revenue in USD','Restaurant Name','Unnamed: 0'],axis=1)
y=train_data['revenue in USD']


# %%
X.head()


# %%
y.head()


# %%
data_matrix = xgb.DMatrix(data=X,label=y)


# %%
xg_reg = xgb.XGBRegressor(objective ='reg:linear', colsample_bytree = 0.3, learning_rate = 0.1,
                max_depth = 10, alpha = 10, n_estimators = 100)


# %%
xg_reg.fit(X,y)


# %%
X_test1=test_data.drop(['Restaurant Name','Unnamed: 0'],axis=1)

# %% [markdown]
# Prediction

# %%
preds = xg_reg.predict(X_test1)


# %%
preds


# %%
test_data['Predicted Revenue']= preds


# %%
test_data.head()


# %%



# %%



# %%


